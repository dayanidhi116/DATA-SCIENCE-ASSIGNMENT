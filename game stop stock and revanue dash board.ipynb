{
  "nbformat": 4,
  "nbformat_minor": 0,
  "metadata": {
    "colab": {
      "provenance": []
    },
    "kernelspec": {
      "name": "python3",
      "display_name": "Python 3"
    },
    "language_info": {
      "name": "python"
    }
  },
  "cells": [
    {
      "cell_type": "code",
      "source": [
        "import yfinance as yf\n",
        "import pandas as pd\n",
        "gamestop = yf.Ticker(\"GME\")\n",
        "!wget https://www.macrotrends.net/stocks/charts/GME/gamestop/revenue\n",
        "import plotly.graph_objects as go\n",
        "# GameStop stock plot\n",
        "fig3 = go.Figure()\n",
        "fig3.add_trace(go.Scatter(x=gme_stock_data['Date'], y=gme_stock_data['Close'], name=\"GameStop Stock Price\"))\n",
        "fig3.update_layout(title=\"GameStop Stock Price Over Time\", xaxis_title=\"Date\", yaxis_title=\"Stock Price (USD)\")\n",
        "\n"
      ],
      "metadata": {
        "colab": {
          "base_uri": "https://localhost:8080/",
          "height": 757
        },
        "id": "RV3oAB5JaWCs",
        "outputId": "c7fc7c66-34b9-4940-a1bd-08d1771f0a6a"
      },
      "execution_count": 40,
      "outputs": [
        {
          "output_type": "stream",
          "name": "stdout",
          "text": [
            "--2025-05-28 05:52:05--  https://www.macrotrends.net/stocks/charts/GME/gamestop/revenue\n",
            "Resolving www.macrotrends.net (www.macrotrends.net)... 172.67.6.95, 104.22.42.171, 104.22.43.171, ...\n",
            "Connecting to www.macrotrends.net (www.macrotrends.net)|172.67.6.95|:443... connected.\n",
            "HTTP request sent, awaiting response... 200 OK\n",
            "Length: unspecified [text/html]\n",
            "Saving to: ‘revenue.5’\n",
            "\n",
            "\rrevenue.5               [<=>                 ]       0  --.-KB/s               \rrevenue.5               [ <=>                ]  73.08K  --.-KB/s    in 0.002s  \n",
            "\n",
            "2025-05-28 05:52:05 (38.4 MB/s) - ‘revenue.5’ saved [74836]\n",
            "\n"
          ]
        },
        {
          "output_type": "display_data",
          "data": {
            "text/html": [
              "<iframe\n",
              "    scrolling=\"no\"\n",
              "    width=\"100%\"\n",
              "    height=\"545px\"\n",
              "    src=\"iframe_figures/figure_40.html\"\n",
              "    frameborder=\"0\"\n",
              "    allowfullscreen\n",
              "></iframe>\n"
            ]
          },
          "metadata": {}
        }
      ]
    },
    {
      "cell_type": "code",
      "source": [],
      "metadata": {
        "id": "6KIHSN6maWqI"
      },
      "execution_count": null,
      "outputs": []
    }
  ]
}