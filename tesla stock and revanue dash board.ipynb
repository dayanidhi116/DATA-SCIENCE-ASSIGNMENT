{
  "nbformat": 4,
  "nbformat_minor": 0,
  "metadata": {
    "colab": {
      "provenance": []
    },
    "kernelspec": {
      "name": "python3",
      "display_name": "Python 3"
    },
    "language_info": {
      "name": "python"
    }
  },
  "cells": [
    {
      "cell_type": "code",
      "source": [
        "import yfinance as yf\n",
        "import pandas as pd\n",
        "tesla = yf.Ticker(\"TSLA\")\n",
        "!wget https://cf-courses-data.s3.us.cloud-object-storage.appdomain.cloud/IBMDeveloperSkillsNetwork-PY0220EN-SkillsNetwork/labs/project/revenue.htm\n",
        "import plotly.graph_objects as go\n",
        "\n",
        "# Tesla stock plot\n",
        "fig1 = go.Figure()\n",
        "fig1.add_trace(go.Scatter(x=tesla_stock_data['Date'], y=tesla_stock_data['Close'], name=\"Tesla Stock Price\"))\n",
        "fig1.update_layout(title=\"Tesla Stock Price Over Time\", xaxis_title=\"Date\", yaxis_title=\"Stock Price (USD)\")\n",
        "\n",
        "\n",
        "\n",
        "\n"
      ],
      "metadata": {
        "colab": {
          "base_uri": "https://localhost:8080/",
          "height": 777
        },
        "id": "RV3oAB5JaWCs",
        "outputId": "87776549-2783-4fe5-d5f1-f973bbe7122c"
      },
      "execution_count": 42,
      "outputs": [
        {
          "output_type": "stream",
          "name": "stdout",
          "text": [
            "--2025-05-28 05:57:00--  https://cf-courses-data.s3.us.cloud-object-storage.appdomain.cloud/IBMDeveloperSkillsNetwork-PY0220EN-SkillsNetwork/labs/project/revenue.htm\n",
            "Resolving cf-courses-data.s3.us.cloud-object-storage.appdomain.cloud (cf-courses-data.s3.us.cloud-object-storage.appdomain.cloud)... 169.63.118.104\n",
            "Connecting to cf-courses-data.s3.us.cloud-object-storage.appdomain.cloud (cf-courses-data.s3.us.cloud-object-storage.appdomain.cloud)|169.63.118.104|:443... connected.\n",
            "HTTP request sent, awaiting response... 200 OK\n",
            "Length: 64779 (63K) [text/html]\n",
            "Saving to: ‘revenue.htm.4’\n",
            "\n",
            "\rrevenue.htm.4         0%[                    ]       0  --.-KB/s               \rrevenue.htm.4       100%[===================>]  63.26K  --.-KB/s    in 0.002s  \n",
            "\n",
            "2025-05-28 05:57:00 (27.4 MB/s) - ‘revenue.htm.4’ saved [64779/64779]\n",
            "\n"
          ]
        },
        {
          "output_type": "display_data",
          "data": {
            "text/html": [
              "<iframe\n",
              "    scrolling=\"no\"\n",
              "    width=\"100%\"\n",
              "    height=\"545px\"\n",
              "    src=\"iframe_figures/figure_42.html\"\n",
              "    frameborder=\"0\"\n",
              "    allowfullscreen\n",
              "></iframe>\n"
            ]
          },
          "metadata": {}
        }
      ]
    },
    {
      "cell_type": "code",
      "source": [],
      "metadata": {
        "id": "6KIHSN6maWqI"
      },
      "execution_count": null,
      "outputs": []
    }
  ]
}