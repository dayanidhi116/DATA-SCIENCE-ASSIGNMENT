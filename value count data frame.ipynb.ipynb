{
  "nbformat": 4,
  "nbformat_minor": 0,
  "metadata": {
    "colab": {
      "provenance": []
    },
    "kernelspec": {
      "name": "python3",
      "display_name": "Python 3"
    },
    "language_info": {
      "name": "python"
    }
  },
  "cells": [
    {
      "cell_type": "code",
      "source": [
        "import pandas as pd\n",
        "\n",
        "# Sample DataFrame with a 'floor' column\n",
        "data = {\n",
        "    'floor': [1, 2, 2, 3, 1, 4, 2, 1, 3, 4, 5, 2]\n",
        "}\n",
        "\n",
        "df = pd.DataFrame(data)\n",
        "\n",
        "# Count the number of houses by floor and convert to DataFrame\n",
        "floor_counts = df['floor'].value_counts().to_frame(name='count')\n",
        "\n",
        "# Display the result\n",
        "print(floor_counts)\n"
      ],
      "metadata": {
        "colab": {
          "base_uri": "https://localhost:8080/"
        },
        "id": "mKB0IJH5p0AR",
        "outputId": "24a529f0-5daa-43e5-a247-096183965f9c"
      },
      "execution_count": 4,
      "outputs": [
        {
          "output_type": "stream",
          "name": "stdout",
          "text": [
            "       count\n",
            "floor       \n",
            "2          4\n",
            "1          3\n",
            "3          2\n",
            "4          2\n",
            "5          1\n"
          ]
        }
      ]
    }
  ]
}