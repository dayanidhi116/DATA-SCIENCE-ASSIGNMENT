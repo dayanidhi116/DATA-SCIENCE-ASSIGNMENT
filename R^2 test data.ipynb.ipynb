{
  "nbformat": 4,
  "nbformat_minor": 0,
  "metadata": {
    "colab": {
      "provenance": []
    },
    "kernelspec": {
      "name": "python3",
      "display_name": "Python 3"
    },
    "language_info": {
      "name": "python"
    }
  },
  "cells": [
    {
      "cell_type": "code",
      "source": [
        "from sklearn.preprocessing import PolynomialFeatures\n",
        "from sklearn.linear_model import Ridge\n",
        "from sklearn.metrics import r2_score\n",
        "from sklearn.model_selection import train_test_split\n",
        "import numpy as np\n",
        "\n",
        "# Example synthetic data (replace with your actual data)\n",
        "np.random.seed(0)\n",
        "X = np.random.rand(100, 1) * 10\n",
        "y = 3 * X.squeeze() ** 2 + 2 * X.squeeze() + 1 + np.random.randn(100) * 10\n",
        "\n",
        "# Split into training and test sets\n",
        "X_train, X_test, y_train, y_test = train_test_split(X, y, test_size=0.2, random_state=42)\n",
        "\n",
        "# Apply 2nd order polynomial transformation\n",
        "poly = PolynomialFeatures(degree=2)\n",
        "X_train_poly = poly.fit_transform(X_train)\n",
        "X_test_poly = poly.transform(X_test)\n",
        "\n",
        "# Create and fit Ridge regression model\n",
        "ridge = Ridge(alpha=0.1)\n",
        "ridge.fit(X_train_poly, y_train)\n",
        "\n",
        "# Predict and calculate R^2 score\n",
        "y_pred = ridge.predict(X_test_poly)\n",
        "r2 = r2_score(y_test, y_pred)\n",
        "\n",
        "print(f\"R^2 Score on Test Data: {r2:.4f}\")\n"
      ],
      "metadata": {
        "colab": {
          "base_uri": "https://localhost:8080/"
        },
        "id": "mKB0IJH5p0AR",
        "outputId": "11080d21-85fa-4e48-b677-942f1df4a1aa"
      },
      "execution_count": 7,
      "outputs": [
        {
          "output_type": "stream",
          "name": "stdout",
          "text": [
            "R^2 Score on Test Data: 0.9845\n"
          ]
        }
      ]
    }
  ]
}