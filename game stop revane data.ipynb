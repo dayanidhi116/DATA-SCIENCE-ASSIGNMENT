{
  "nbformat": 4,
  "nbformat_minor": 0,
  "metadata": {
    "colab": {
      "provenance": []
    },
    "kernelspec": {
      "name": "python3",
      "display_name": "Python 3"
    },
    "language_info": {
      "name": "python"
    }
  },
  "cells": [
    {
      "cell_type": "code",
      "source": [
        "import yfinance as yf\n",
        "import pandas as pd\n",
        "apple = yf.Ticker(\"GME\")\n",
        "!wget https://www.macrotrends.net/stocks/charts/GME/gamestop/revenue\n"
      ],
      "metadata": {
        "colab": {
          "base_uri": "https://localhost:8080/"
        },
        "id": "QAExXAIKIiX3",
        "outputId": "cca47bdc-38aa-4b50-81f4-12d7462f1a36"
      },
      "execution_count": 30,
      "outputs": [
        {
          "output_type": "stream",
          "name": "stdout",
          "text": [
            "--2025-05-28 05:18:42--  https://www.macrotrends.net/stocks/charts/GME/gamestop/revenue\n",
            "Resolving www.macrotrends.net (www.macrotrends.net)... 104.22.42.171, 104.22.43.171, 172.67.6.95, ...\n",
            "Connecting to www.macrotrends.net (www.macrotrends.net)|104.22.42.171|:443... connected.\n",
            "HTTP request sent, awaiting response... 200 OK\n",
            "Length: unspecified [text/html]\n",
            "Saving to: ‘revenue’\n",
            "\n",
            "\rrevenue                 [<=>                 ]       0  --.-KB/s               \rrevenue                 [ <=>                ]  73.08K  --.-KB/s    in 0.001s  \n",
            "\n",
            "2025-05-28 05:18:42 (47.7 MB/s) - ‘revenue’ saved [74836]\n",
            "\n"
          ]
        }
      ]
    }
  ]
}