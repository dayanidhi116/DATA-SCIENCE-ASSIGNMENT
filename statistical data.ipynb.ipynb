{
  "nbformat": 4,
  "nbformat_minor": 0,
  "metadata": {
    "colab": {
      "provenance": []
    },
    "kernelspec": {
      "name": "python3",
      "display_name": "Python 3"
    },
    "language_info": {
      "name": "python"
    }
  },
  "cells": [
    {
      "cell_type": "code",
      "execution_count": 1,
      "metadata": {
        "colab": {
          "base_uri": "https://localhost:8080/"
        },
        "id": "YIHgshlmpI2s",
        "outputId": "f0257333-5162-4f8e-e52a-9d2937d7022d"
      },
      "outputs": [
        {
          "output_type": "stream",
          "name": "stdout",
          "text": [
            "        Age   Salary\n",
            "count   3.0      3.0\n",
            "mean   30.0  60000.0\n",
            "std     5.0  10000.0\n",
            "min    25.0  50000.0\n",
            "25%    27.5  55000.0\n",
            "50%    30.0  60000.0\n",
            "75%    32.5  65000.0\n",
            "max    35.0  70000.0\n"
          ]
        }
      ],
      "source": [
        "import pandas as pd\n",
        "\n",
        "# Sample DataFrame (including 'id' and 'Unnamed: 0' columns for demonstration)\n",
        "data = {\n",
        "    'Unnamed: 0': [0, 1, 2],\n",
        "    'id': [101, 102, 103],\n",
        "    'Age': [25, 30, 35],\n",
        "    'Salary': [50000.0, 60000.0, 70000.0],\n",
        "    'Is_Manager': [False, True, False]\n",
        "}\n",
        "\n",
        "df = pd.DataFrame(data)\n",
        "\n",
        "# Drop 'id' and 'Unnamed: 0' columns\n",
        "df.drop(['id', 'Unnamed: 0'], axis=1, inplace=True)\n",
        "\n",
        "# Display statistical summary\n",
        "print(df.describe())\n"
      ]
    }
  ]
}